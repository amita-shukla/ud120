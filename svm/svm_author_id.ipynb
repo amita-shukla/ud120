{
 "cells": [
  {
   "cell_type": "markdown",
   "metadata": {},
   "source": [
    "## This is the code to accompany the Lesson 2 (SVM) mini-project.\n",
    "\n",
    "Use a SVM to identify emails from the Enron corpus by their authors:    \n",
    "\n",
    "`Sara has label 0`\n",
    "\n",
    "`Chris has label 1`"
   ]
  },
  {
   "cell_type": "code",
   "execution_count": 15,
   "metadata": {
    "collapsed": true
   },
   "outputs": [],
   "source": [
    "import sys\n",
    "from time import time\n",
    "sys.path.append(\"../tools/\")\n",
    "from email_preprocess import preprocess"
   ]
  },
  {
   "cell_type": "code",
   "execution_count": 64,
   "metadata": {
    "collapsed": true
   },
   "outputs": [
    {
     "name": "stdout",
     "output_type": "stream",
     "text": [
      "no. of Chris training emails: 7936\n",
      "no. of Sara training emails: 7884\n"
     ]
    }
   ],
   "source": [
    "### features_train and features_test are the features for the training\n",
    "### and testing datasets, respectively\n",
    "### labels_train and labels_test are the corresponding item labels\n",
    "features_train, features_test, labels_train, labels_test = preprocess()"
   ]
  },
  {
   "cell_type": "code",
   "execution_count": 65,
   "metadata": {
    "collapsed": true
   },
   "outputs": [
    {
     "name": "stdout",
     "output_type": "stream",
     "text": [
      "starting fit...\n",
      "fit completed in  124.867 s\n",
      "starting predict...\n",
      "predict completed in  12.787 s\n",
      "pred 10: 1\n",
      "pred 26: 0\n",
      "pred 50: 1\n",
      "877\n",
      "0.990898748578\n"
     ]
    }
   ],
   "source": [
    "#########################################################\n",
    "### your code goes here ###\n",
    "# end=len(features_train)/100\n",
    "# features_train = features_train[:end] \n",
    "# labels_train = labels_train[:end] \n",
    "\n",
    "from sklearn.svm import SVC\n",
    "#clf=SVC(kernel=\"linear\")\n",
    "clf=SVC(kernel=\"rbf\",C=10000)\n",
    "\n",
    "print \"starting fit...\"\n",
    "t0=time()\n",
    "clf.fit(features_train,labels_train)\n",
    "print \"fit completed in \", round(time()-t0,3), \"s\"\n",
    "\n",
    "print \"starting predict...\"\n",
    "t1=time()\n",
    "pred=clf.predict(features_test)\n",
    "print \"predict completed in \", round(time()-t1,3), \"s\"\n",
    "print \"pred 10:\", pred[10]\n",
    "print \"pred 26:\", pred[26]\n",
    "print \"pred 50:\", pred[50]\n",
    "\n",
    "count_chris=0\n",
    "for elem in pred:\n",
    "    if(elem==1):\n",
    "        count_chris=count_chris+1\n",
    "print count_chris\n",
    "from sklearn.metrics import accuracy_score\n",
    "print(accuracy_score(pred,labels_test))\n",
    "#########################################################"
   ]
  },
  {
   "cell_type": "code",
   "execution_count": 63,
   "metadata": {},
   "outputs": [
    {
     "name": "stdout",
     "output_type": "stream",
     "text": [
      "2\n"
     ]
    }
   ],
   "source": [
    "ex=[1,2,3,0,0]\n",
    "count=0\n",
    "for elem in ex:\n",
    "    if(elem==0): \n",
    "        count=count+1\n",
    "print count"
   ]
  },
  {
   "cell_type": "code",
   "execution_count": null,
   "metadata": {},
   "outputs": [],
   "source": []
  }
 ],
 "metadata": {
  "kernelspec": {
   "display_name": "Python 2",
   "language": "python",
   "name": "python2"
  },
  "language_info": {
   "codemirror_mode": {
    "name": "ipython",
    "version": 2
   },
   "file_extension": ".py",
   "mimetype": "text/x-python",
   "name": "python",
   "nbconvert_exporter": "python",
   "pygments_lexer": "ipython2",
   "version": "2.7.6"
  }
 },
 "nbformat": 4,
 "nbformat_minor": 2
}
