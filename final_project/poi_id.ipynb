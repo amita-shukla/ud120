{
 "cells": [
  {
   "cell_type": "markdown",
   "metadata": {},
   "source": [
    "## Starter code for the final project."
   ]
  },
  {
   "cell_type": "code",
   "execution_count": 1,
   "metadata": {
    "collapsed": true
   },
   "outputs": [],
   "source": [
    "import sys\n",
    "import pickle\n",
    "sys.path.append(\"../tools/\")\n",
    "from feature_format import featureFormat, targetFeatureSplit\n",
    "from tester import dump_classifier_and_data\n",
    "from helperFunctions import addNewFeatures\n",
    "from tester import test_classifier\n",
    "\n",
    "from sklearn.naive_bayes import GaussianNB\n",
    "from sklearn.tree import DecisionTreeClassifier\n",
    "from sklearn.svm import SVC\n",
    "from sklearn.ensemble import AdaBoostClassifier\n",
    "from sklearn.neighbors import KNeighborsClassifier\n",
    "from sklearn.ensemble import RandomForestClassifier\n",
    "from sklearn.grid_search import GridSearchCV\n"
   ]
  },
  {
   "cell_type": "markdown",
   "metadata": {},
   "source": [
    "### Select features"
   ]
  },
  {
   "cell_type": "code",
   "execution_count": 2,
   "metadata": {
    "collapsed": true
   },
   "outputs": [],
   "source": [
    "### Task 1: Select what features you'll use.\n",
    "### features_list is a list of strings, each of which is a feature name.\n",
    "### The first feature must be \"poi\".\n",
    "features_list = ['poi','salary', 'bonus', 'from_poi_to_this_person', 'from_this_person_to_poi'] # You will need to use more features"
   ]
  },
  {
   "cell_type": "markdown",
   "metadata": {},
   "source": [
    "### 1. Explore Dataset"
   ]
  },
  {
   "cell_type": "code",
   "execution_count": 3,
   "metadata": {
    "collapsed": true
   },
   "outputs": [
    {
     "name": "stdout",
     "output_type": "stream",
     "text": [
      "size of data set: 146\n",
      "number of features:  21\n",
      "sample data point: \n"
     ]
    },
    {
     "data": {
      "text/plain": [
       "{'bonus': 1000000,\n",
       " 'deferral_payments': 'NaN',\n",
       " 'deferred_income': -235000,\n",
       " 'director_fees': 'NaN',\n",
       " 'email_address': 'richard.causey@enron.com',\n",
       " 'exercised_stock_options': 'NaN',\n",
       " 'expenses': 30674,\n",
       " 'from_messages': 49,\n",
       " 'from_poi_to_this_person': 58,\n",
       " 'from_this_person_to_poi': 12,\n",
       " 'loan_advances': 'NaN',\n",
       " 'long_term_incentive': 350000,\n",
       " 'other': 307895,\n",
       " 'poi': True,\n",
       " 'restricted_stock': 2502063,\n",
       " 'restricted_stock_deferred': 'NaN',\n",
       " 'salary': 415189,\n",
       " 'shared_receipt_with_poi': 1585,\n",
       " 'to_messages': 1892,\n",
       " 'total_payments': 1868758,\n",
       " 'total_stock_value': 2502063}"
      ]
     },
     "execution_count": 3,
     "metadata": {},
     "output_type": "execute_result"
    }
   ],
   "source": [
    "### Load the dictionary containing the dataset\n",
    "with open(\"final_project_dataset.pkl\", \"r\") as data_file:\n",
    "    data_dict = pickle.load(data_file)\n",
    "    \n",
    "data = featureFormat(data_dict, features_list)\n",
    "\n",
    "print \"size of data set:\" , len(data_dict)\n",
    "print \"number of features: \", len(data_dict.values()[0])\n",
    "print \"sample data point: \"\n",
    "data_dict.items()[0]\n",
    "data_dict['CAUSEY RICHARD A']"
   ]
  },
  {
   "cell_type": "markdown",
   "metadata": {},
   "source": [
    "### 2. Remove outliers"
   ]
  },
  {
   "cell_type": "code",
   "execution_count": 4,
   "metadata": {},
   "outputs": [
    {
     "data": {
      "image/png": "[encoded data removed]",
      "text/plain": [
       "<matplotlib.figure.Figure at 0x7fab1a4d9e10>"
      ]
     },
     "metadata": {},
     "output_type": "display_data"
    },
    {
     "data": {
      "text/plain": [
       "<matplotlib.figure.Figure at 0x7fab1c594a90>"
      ]
     },
     "metadata": {},
     "output_type": "display_data"
    }
   ],
   "source": [
    "salary = data[:, 1]\n",
    "bonus = data[:, 2]\n",
    "\n",
    "import matplotlib.pyplot as plt\n",
    "%matplotlib inline\n",
    "plt.scatter(salary, bonus)\n",
    "plt.xlabel(\"salary\")\n",
    "plt.ylabel(\"bonus\")\n",
    "plt.show()\n",
    "plt.savefig('outlier.png')"
   ]
  },
  {
   "cell_type": "code",
   "execution_count": 5,
   "metadata": {},
   "outputs": [
    {
     "data": {
      "image/png": "[encoded data removed]",
      "text/plain": [
       "<matplotlib.figure.Figure at 0x7fab1a4d9ed0>"
      ]
     },
     "metadata": {},
     "output_type": "display_data"
    },
    {
     "data": {
      "text/plain": [
       "<matplotlib.figure.Figure at 0x7fab162e9a50>"
      ]
     },
     "metadata": {},
     "output_type": "display_data"
    }
   ],
   "source": [
    "data_dict.pop(\"TOTAL\",0)\n",
    "data_cleaned = featureFormat(data_dict, features_list)\n",
    "\n",
    "poi_salary = [x[1] for x in data_cleaned if x[0]]\n",
    "poi_bonus = [x[2] for x in data_cleaned if x[0]]\n",
    "\n",
    "not_poi_salary = [x[1] for x in data_cleaned if not x[0]]\n",
    "not_poi_bonus = [x[2] for x in data_cleaned if not x[0]]\n",
    "\n",
    "import matplotlib.pyplot as plt\n",
    "%matplotlib inline\n",
    "\n",
    "is_poi_color = \"r\"\n",
    "is_not_poi_color = \"b\"\n",
    "\n",
    "%matplotlib inline\n",
    "plt.scatter(poi_salary, poi_bonus, color=is_poi_color, label=\"is_poi\")\n",
    "plt.scatter(not_poi_salary, not_poi_bonus, color=is_not_poi_color, label=\"is_not_poi\")\n",
    "plt.xlabel(\"salary\")\n",
    "plt.ylabel(\"bonus\")\n",
    "plt.legend()\n",
    "plt.show()\n",
    "plt.savefig('outlier_removed.png')"
   ]
  },
  {
   "cell_type": "markdown",
   "metadata": {},
   "source": [
    "### 3. Create New Features"
   ]
  },
  {
   "cell_type": "code",
   "execution_count": 6,
   "metadata": {
    "collapsed": true
   },
   "outputs": [
    {
     "data": {
      "text/plain": [
       "('METTS MARK',\n",
       " {'bonus': 600000,\n",
       "  'deferral_payments': 'NaN',\n",
       "  'deferred_income': 'NaN',\n",
       "  'director_fees': 'NaN',\n",
       "  'email_address': 'mark.metts@enron.com',\n",
       "  'exercised_stock_options': 'NaN',\n",
       "  'expenses': 94299,\n",
       "  'fraction_from_poi': 0.04708798017348203,\n",
       "  'fraction_to_poi': 0.034482758620689655,\n",
       "  'from_messages': 29,\n",
       "  'from_poi_to_this_person': 38,\n",
       "  'from_this_person_to_poi': 1,\n",
       "  'loan_advances': 'NaN',\n",
       "  'long_term_incentive': 'NaN',\n",
       "  'other': 1740,\n",
       "  'poi': False,\n",
       "  'restricted_stock': 585062,\n",
       "  'restricted_stock_deferred': 'NaN',\n",
       "  'salary': 365788,\n",
       "  'shared_receipt_with_poi': 702,\n",
       "  'to_messages': 807,\n",
       "  'total_payments': 1061827,\n",
       "  'total_stock_value': 585062})"
      ]
     },
     "execution_count": 6,
     "metadata": {},
     "output_type": "execute_result"
    }
   ],
   "source": [
    "### Task 3: Create new feature(s)\n",
    "### Store to my_dataset for easy export below.\n",
    "from helperFunctions import addNewFeatures\n",
    "my_dataset = addNewFeatures(data_dict)\n",
    "my_dataset.items()[0]"
   ]
  },
  {
   "cell_type": "code",
   "execution_count": 7,
   "metadata": {
    "collapsed": true
   },
   "outputs": [],
   "source": [
    "### Extract features and labels from dataset for local testing\n",
    "features_list = ['poi', 'salary', 'bonus', 'fraction_from_poi', 'fraction_to_poi']\n",
    "# features_list = ['poi', 'fraction_from_poi', 'fraction_to_poi']\n",
    "data = featureFormat(my_dataset, features_list, sort_keys = True)\n",
    "labels, features = targetFeatureSplit(data)"
   ]
  },
  {
   "cell_type": "markdown",
   "metadata": {},
   "source": [
    "### 4. Try different classifiers"
   ]
  },
  {
   "cell_type": "code",
   "execution_count": 3,
   "metadata": {
    "collapsed": true
   },
   "outputs": [],
   "source": [
    "### Task 4: Try a varity of classifiers\n",
    "### Please name your classifier clf for easy export below.\n",
    "### Note that if you want to do PCA or other multi-stage operations,\n",
    "### you'll need to use Pipelines. For more info:\n",
    "### http://scikit-learn.org/stable/modules/pipeline.html\n",
    "\n",
    "# Provided to give you a starting point. Try a variety of classifiers.\n",
    "from sklearn.naive_bayes import GaussianNB\n",
    "from sklearn.tree import DecisionTreeClassifier\n",
    "from sklearn.svm import SVC\n",
    "from sklearn.ensemble import AdaBoostClassifier\n",
    "from sklearn.neighbors import KNeighborsClassifier\n",
    "from sklearn.ensemble import RandomForestClassifier\n",
    "from sklearn.grid_search import GridSearchCV\n",
    "\n",
    "parameters = {'kernel':('linear', 'rbf'), 'C':[1, 10]}\n",
    "\n",
    "classifiers = [\n",
    "    GaussianNB(),\n",
    "    DecisionTreeClassifier(min_samples_split=40),\n",
    "    SVC(kernel=\"rbf\"),\n",
    "    AdaBoostClassifier(DecisionTreeClassifier(), algorithm=\"SAMME\", n_estimators=200),\n",
    "    RandomForestClassifier(max_depth=2, random_state=0),\n",
    "    KNeighborsClassifier(n_neighbors=3),\n",
    "    GridSearchCV(SVC(), parameters)\n",
    "]\n",
    "\n",
    "# clf = GaussianNB()\n",
    "\n",
    "# from sklearn.tree import DecisionTreeClassifier\n",
    "# clf = DecisionTreeClassifier(min_samples_split=40)\n",
    "\n",
    "# from sklearn.svm import SVC\n",
    "# clf=SVC(kernel=\"rbf\")"
   ]
  },
  {
   "cell_type": "code",
   "execution_count": 9,
   "metadata": {
    "collapsed": true
   },
   "outputs": [],
   "source": [
    "### Task 5: Tune your classifier to achieve better than .3 precision and recall \n",
    "### using our testing script. Check the tester.py script in the final project\n",
    "### folder for details on the evaluation method, especially the test_classifier\n",
    "### function. Because of the small size of the dataset, the script uses\n",
    "### stratified shuffle split cross validation. For more info: \n",
    "### http://scikit-learn.org/stable/modules/generated/sklearn.cross_validation.StratifiedShuffleSplit.html\n",
    "\n",
    "# Example starting point. Try investigating other evaluation techniques!\n",
    "from sklearn.cross_validation import train_test_split\n",
    "features_train, features_test, labels_train, labels_test = \\\n",
    "    train_test_split(features, labels, test_size=0.3, random_state=42)"
   ]
  },
  {
   "cell_type": "code",
   "execution_count": 10,
   "metadata": {
    "collapsed": true
   },
   "outputs": [],
   "source": [
    "### Task 6: Dump your classifier, dataset, and features_list so anyone can\n",
    "### check your results. You do not need to change anything below, but make sure\n",
    "### that the version of poi_id.py that you submit can be run on its own and\n",
    "### generates the necessary .pkl files for validating your results.\n",
    "\n",
    "# dump_classifier_and_data(clf, my_dataset, features_list)\n",
    "dump_classifier_and_data(my_dataset, features_list)"
   ]
  },
  {
   "cell_type": "markdown",
   "metadata": {},
   "source": [
    "#### ----------------------------- do not change the result of any cell --------------------"
   ]
  },
  {
   "cell_type": "code",
   "execution_count": 28,
   "metadata": {},
   "outputs": [
    {
     "name": "stdout",
     "output_type": "stream",
     "text": [
      "GaussianNB()\n",
      "\tAccuracy: 0.23282\tPrecision: 0.16703\tRecall: 0.80750\tF1: 0.27680\tF2: 0.45702\n",
      "\tTotal predictions: 11000\tTrue positives: 1615\tFalse positives: 8054\tFalse negatives:  385\tTrue negatives:  946\n",
      "\n"
     ]
    }
   ],
   "source": [
    "# for naive bayes\n",
    "from tester import test_classifier\n",
    "test_classifier(clf, my_dataset, features_list)"
   ]
  },
  {
   "cell_type": "code",
   "execution_count": 13,
   "metadata": {},
   "outputs": [
    {
     "name": "stdout",
     "output_type": "stream",
     "text": [
      "DecisionTreeClassifier(class_weight=None, criterion='gini', max_depth=None,\n",
      "            max_features=None, max_leaf_nodes=None, min_samples_leaf=1,\n",
      "            min_samples_split=40, min_weight_fraction_leaf=0.0,\n",
      "            presort=False, random_state=None, splitter='best')\n",
      "\tAccuracy: 0.77140\tPrecision: 0.13333\tRecall: 0.02600\tF1: 0.04351\tF2: 0.03099\n",
      "\tTotal predictions: 10000\tTrue positives:   52\tFalse positives:  338\tFalse negatives: 1948\tTrue negatives: 7662\n",
      "\n"
     ]
    }
   ],
   "source": [
    "# for dec tree\n",
    "from tester import test_classifier\n",
    "test_classifier(clf, my_dataset, features_list)"
   ]
  },
  {
   "cell_type": "code",
   "execution_count": 16,
   "metadata": {},
   "outputs": [
    {
     "name": "stdout",
     "output_type": "stream",
     "text": [
      "Got a divide by zero when trying out: SVC(C=1.0, cache_size=200, class_weight=None, coef0=0.0,\n",
      "  decision_function_shape=None, degree=3, gamma='auto', kernel='rbf',\n",
      "  max_iter=-1, probability=False, random_state=None, shrinking=True,\n",
      "  tol=0.001, verbose=False)\n",
      "Precision or recall may be undefined due to a lack of true positive predicitons.\n"
     ]
    }
   ],
   "source": [
    "# for svm\n",
    "from tester import test_classifier\n",
    "test_classifier(clf, my_dataset, features_list)"
   ]
  },
  {
   "cell_type": "code",
   "execution_count": 24,
   "metadata": {},
   "outputs": [
    {
     "name": "stdout",
     "output_type": "stream",
     "text": [
      "Got a divide by zero when trying out: SVC(C=1.0, cache_size=200, class_weight=None, coef0=0.0,\n",
      "  decision_function_shape=None, degree=3, gamma='auto', kernel='rbf',\n",
      "  max_iter=-1, probability=False, random_state=None, shrinking=True,\n",
      "  tol=0.001, verbose=False)\n",
      "Precision or recall may be undefined due to a lack of true positive predicitons.\n"
     ]
    }
   ],
   "source": [
    "# after adding features\n",
    "# svm \n",
    "test_classifier(clf, my_dataset, features_list)"
   ]
  },
  {
   "cell_type": "code",
   "execution_count": 29,
   "metadata": {},
   "outputs": [
    {
     "name": "stdout",
     "output_type": "stream",
     "text": [
      "GaussianNB()\n",
      "\tAccuracy: 0.23282\tPrecision: 0.16703\tRecall: 0.80750\tF1: 0.27680\tF2: 0.45702\n",
      "\tTotal predictions: 11000\tTrue positives: 1615\tFalse positives: 8054\tFalse negatives:  385\tTrue negatives:  946\n",
      "\n"
     ]
    }
   ],
   "source": [
    "# for naive bayes\n",
    "from tester import test_classifier\n",
    "test_classifier(clf, my_dataset, features_list)"
   ]
  },
  {
   "cell_type": "markdown",
   "metadata": {},
   "source": [
    "#### ------------------------------------ final result --------------------------------"
   ]
  },
  {
   "cell_type": "code",
   "execution_count": null,
   "metadata": {},
   "outputs": [
    {
     "name": "stdout",
     "output_type": "stream",
     "text": [
      "GaussianNB()\n",
      "\tAccuracy: 0.80173\tPrecision: 0.39315\tRecall: 0.16650\tF1: 0.23393\tF2: 0.18820\n",
      "\tTotal predictions: 11000\tTrue positives:  333\tFalse positives:  514\tFalse negatives: 1667\tTrue negatives: 8486\n",
      "\n",
      "----------------------------------------------------------------------------------------------------------------------\n",
      "DecisionTreeClassifier(class_weight=None, criterion='gini', max_depth=None,\n",
      "            max_features=None, max_leaf_nodes=None, min_samples_leaf=1,\n",
      "            min_samples_split=40, min_weight_fraction_leaf=0.0,\n",
      "            presort=False, random_state=None, splitter='best')\n",
      "\tAccuracy: 0.79727\tPrecision: 0.15976\tRecall: 0.02700\tF1: 0.04619\tF2: 0.03238\n",
      "\tTotal predictions: 11000\tTrue positives:   54\tFalse positives:  284\tFalse negatives: 1946\tTrue negatives: 8716\n",
      "\n",
      "----------------------------------------------------------------------------------------------------------------------\n",
      "Got a divide by zero when trying out: SVC(C=1.0, cache_size=200, class_weight=None, coef0=0.0,\n",
      "  decision_function_shape=None, degree=3, gamma='auto', kernel='rbf',\n",
      "  max_iter=-1, probability=False, random_state=None, shrinking=True,\n",
      "  tol=0.001, verbose=False)\n",
      "Precision or recall may be undefined due to a lack of true positive predicitons.\n",
      "----------------------------------------------------------------------------------------------------------------------\n",
      "AdaBoostClassifier(algorithm='SAMME',\n",
      "          base_estimator=DecisionTreeClassifier(class_weight=None, criterion='gini', max_depth=None,\n",
      "            max_features=None, max_leaf_nodes=None, min_samples_leaf=1,\n",
      "            min_samples_split=2, min_weight_fraction_leaf=0.0,\n",
      "            presort=False, random_state=None, splitter='best'),\n",
      "          learning_rate=1.0, n_estimators=200, random_state=None)\n",
      "\tAccuracy: 0.75136\tPrecision: 0.31355\tRecall: 0.30900\tF1: 0.31126\tF2: 0.30990\n",
      "\tTotal predictions: 11000\tTrue positives:  618\tFalse positives: 1353\tFalse negatives: 1382\tTrue negatives: 7647\n",
      "\n",
      "----------------------------------------------------------------------------------------------------------------------\n",
      "RandomForestClassifier(bootstrap=True, class_weight=None, criterion='gini',\n",
      "            max_depth=2, max_features='auto', max_leaf_nodes=None,\n",
      "            min_samples_leaf=1, min_samples_split=2,\n",
      "            min_weight_fraction_leaf=0.0, n_estimators=10, n_jobs=1,\n",
      "            oob_score=False, random_state=0, verbose=0, warm_start=False)\n",
      "\tAccuracy: 0.80755\tPrecision: 0.38728\tRecall: 0.10050\tF1: 0.15959\tF2: 0.11797\n",
      "\tTotal predictions: 11000\tTrue positives:  201\tFalse positives:  318\tFalse negatives: 1799\tTrue negatives: 8682\n",
      "\n",
      "----------------------------------------------------------------------------------------------------------------------\n",
      "KNeighborsClassifier(algorithm='auto', leaf_size=30, metric='minkowski',\n",
      "           metric_params=None, n_jobs=1, n_neighbors=3, p=2,\n",
      "           weights='uniform')\n",
      "\tAccuracy: 0.83627\tPrecision: 0.59256\tRecall: 0.31850\tF1: 0.41431\tF2: 0.35096\n",
      "\tTotal predictions: 11000\tTrue positives:  637\tFalse positives:  438\tFalse negatives: 1363\tTrue negatives: 8562\n",
      "\n",
      "----------------------------------------------------------------------------------------------------------------------\n"
     ]
    }
   ],
   "source": [
    "from tester import test_classifier\n",
    "i = 0\n",
    "for clf in classifiers:\n",
    "    test_classifier(clf, my_dataset, features_list)\n",
    "    print \"----------------------------------------------------------------------------------------------------------------------\""
   ]
  },
  {
   "cell_type": "markdown",
   "metadata": {},
   "source": [
    "### ------------------------------------------------------------"
   ]
  },
  {
   "cell_type": "code",
   "execution_count": 36,
   "metadata": {},
   "outputs": [
    {
     "name": "stdout",
     "output_type": "stream",
     "text": [
      "GaussianNB()\n",
      "\tAccuracy: 0.85250\tPrecision: 0.04082\tRecall: 0.00800\tF1: 0.01338\tF2: 0.00953\n",
      "\tTotal predictions: 8000\tTrue positives:    8\tFalse positives:  188\tFalse negatives:  992\tTrue negatives: 6812\n",
      "\n",
      "----------------------------------------------------------------------------------------------------------------------\n",
      "Got a divide by zero when trying out: DecisionTreeClassifier(class_weight=None, criterion='gini', max_depth=None,\n",
      "            max_features=None, max_leaf_nodes=None, min_samples_leaf=1,\n",
      "            min_samples_split=40, min_weight_fraction_leaf=0.0,\n",
      "            presort=False, random_state=None, splitter='best')\n",
      "Precision or recall may be undefined due to a lack of true positive predicitons.\n",
      "----------------------------------------------------------------------------------------------------------------------\n",
      "Got a divide by zero when trying out: SVC(C=1.0, cache_size=200, class_weight=None, coef0=0.0,\n",
      "  decision_function_shape=None, degree=3, gamma='auto', kernel='rbf',\n",
      "  max_iter=-1, probability=False, random_state=None, shrinking=True,\n",
      "  tol=0.001, verbose=False)\n",
      "Precision or recall may be undefined due to a lack of true positive predicitons.\n",
      "----------------------------------------------------------------------------------------------------------------------\n",
      "AdaBoostClassifier(algorithm='SAMME',\n",
      "          base_estimator=DecisionTreeClassifier(class_weight=None, criterion='gini', max_depth=None,\n",
      "            max_features=None, max_leaf_nodes=None, min_samples_leaf=1,\n",
      "            min_samples_split=2, min_weight_fraction_leaf=0.0,\n",
      "            presort=False, random_state=None, splitter='best'),\n",
      "          learning_rate=1.0, n_estimators=200, random_state=None)\n",
      "\tAccuracy: 0.81175\tPrecision: 0.32258\tRecall: 0.46000\tF1: 0.37923\tF2: 0.42388\n",
      "\tTotal predictions: 8000\tTrue positives:  460\tFalse positives:  966\tFalse negatives:  540\tTrue negatives: 6034\n",
      "\n",
      "----------------------------------------------------------------------------------------------------------------------\n"
     ]
    }
   ],
   "source": [
    "from tester import test_classifier\n",
    "i = 0\n",
    "for clf in classifiers:\n",
    "    test_classifier(clf, my_dataset, features_list)\n",
    "    print \"----------------------------------------------------------------------------------------------------------------------\""
   ]
  },
  {
   "cell_type": "markdown",
   "metadata": {},
   "source": [
    "### Feature selection"
   ]
  },
  {
   "cell_type": "code",
   "execution_count": null,
   "metadata": {},
   "outputs": [
    {
     "name": "stdout",
     "output_type": "stream",
     "text": [
      "('selected features:', ['bonus', 'loan_advances', 'long_term_incentive', 'other', 'total_payments'])\n",
      "GaussianNB()\n",
      "\tAccuracy: 0.74814\tPrecision: 0.11658\tRecall: 0.11600\tF1: 0.11629\tF2: 0.11612\n",
      "\tTotal predictions: 14000\tTrue positives:  232\tFalse positives: 1758\tFalse negatives: 1768\tTrue negatives: 10242\n",
      "\n",
      "----------------------------------------------------------------------------------------------------------------------\n",
      "('selected features:', ['bonus', 'loan_advances', 'long_term_incentive', 'other', 'total_payments'])\n",
      "DecisionTreeClassifier(class_weight=None, criterion='gini', max_depth=None,\n",
      "            max_features=None, max_leaf_nodes=None, min_samples_leaf=1,\n",
      "            min_samples_split=40, min_weight_fraction_leaf=0.0,\n",
      "            presort=False, random_state=None, splitter='best')\n",
      "\tAccuracy: 0.82657\tPrecision: 0.16562\tRecall: 0.05300\tF1: 0.08030\tF2: 0.06134\n",
      "\tTotal predictions: 14000\tTrue positives:  106\tFalse positives:  534\tFalse negatives: 1894\tTrue negatives: 11466\n",
      "\n",
      "----------------------------------------------------------------------------------------------------------------------\n",
      "('selected features:', ['bonus', 'loan_advances', 'long_term_incentive', 'other', 'total_payments'])\n",
      "Got a divide by zero when trying out: SVC(C=1.0, cache_size=200, class_weight=None, coef0=0.0,\n",
      "  decision_function_shape=None, degree=3, gamma='auto', kernel='rbf',\n",
      "  max_iter=-1, probability=False, random_state=None, shrinking=True,\n",
      "  tol=0.001, verbose=False)\n",
      "Precision or recall may be undefined due to a lack of true positive predicitons.\n",
      "----------------------------------------------------------------------------------------------------------------------\n",
      "('selected features:', ['bonus', 'loan_advances', 'long_term_incentive', 'other', 'total_payments'])\n",
      "AdaBoostClassifier(algorithm='SAMME',\n",
      "          base_estimator=DecisionTreeClassifier(class_weight=None, criterion='gini', max_depth=None,\n",
      "            max_features=None, max_leaf_nodes=None, min_samples_leaf=1,\n",
      "            min_samples_split=2, min_weight_fraction_leaf=0.0,\n",
      "            presort=False, random_state=None, splitter='best'),\n",
      "          learning_rate=1.0, n_estimators=200, random_state=None)\n",
      "\tAccuracy: 0.78571\tPrecision: 0.22885\tRecall: 0.21100\tF1: 0.21956\tF2: 0.21434\n",
      "\tTotal predictions: 14000\tTrue positives:  422\tFalse positives: 1422\tFalse negatives: 1578\tTrue negatives: 10578\n",
      "\n",
      "----------------------------------------------------------------------------------------------------------------------\n",
      "('selected features:', ['bonus', 'loan_advances', 'long_term_incentive', 'other', 'total_payments'])\n",
      "RandomForestClassifier(bootstrap=True, class_weight=None, criterion='gini',\n",
      "            max_depth=2, max_features='auto', max_leaf_nodes=None,\n",
      "            min_samples_leaf=1, min_samples_split=2,\n",
      "            min_weight_fraction_leaf=0.0, n_estimators=10, n_jobs=1,\n",
      "            oob_score=False, random_state=0, verbose=0, warm_start=False)\n",
      "\tAccuracy: 0.85729\tPrecision: 0.50269\tRecall: 0.09350\tF1: 0.15767\tF2: 0.11168\n",
      "\tTotal predictions: 14000\tTrue positives:  187\tFalse positives:  185\tFalse negatives: 1813\tTrue negatives: 11815\n",
      "\n",
      "----------------------------------------------------------------------------------------------------------------------\n",
      "('selected features:', ['bonus', 'loan_advances', 'long_term_incentive', 'other', 'total_payments'])\n",
      "KNeighborsClassifier(algorithm='auto', leaf_size=30, metric='minkowski',\n",
      "           metric_params=None, n_jobs=1, n_neighbors=3, p=2,\n",
      "           weights='uniform')\n",
      "\tAccuracy: 0.83393\tPrecision: 0.22781\tRecall: 0.06800\tF1: 0.10474\tF2: 0.07910\n",
      "\tTotal predictions: 14000\tTrue positives:  136\tFalse positives:  461\tFalse negatives: 1864\tTrue negatives: 11539\n",
      "\n",
      "----------------------------------------------------------------------------------------------------------------------\n",
      "('selected features:', ['bonus', 'loan_advances', 'long_term_incentive', 'other', 'total_payments'])\n"
     ]
    }
   ],
   "source": [
    "# send all the features (except: \n",
    "# string values, e.g. email addresses, \n",
    "# -ve vals,\n",
    "#replace cols )\n",
    "# and all data for feature selection to tester.py\n",
    "my_dataset = addNewFeatures(data_dict)\n",
    "features_list = ['poi', 'bonus', 'director_fees', 'expenses', 'from_messages', 'fraction_from_poi', 'fraction_to_poi', 'loan_advances', 'long_term_incentive', 'other', 'salary', 'shared_receipt_with_poi', 'to_messages', 'total_payments']\n",
    "my_dataset = data_dict\n",
    "from tester import test_classifier\n",
    "i = 0\n",
    "for clf in classifiers:\n",
    "    test_classifier(clf, my_dataset, features_list)\n",
    "    print \"----------------------------------------------------------------------------------------------------------------------\""
   ]
  },
  {
   "cell_type": "code",
   "execution_count": 2,
   "metadata": {},
   "outputs": [
    {
     "name": "stdout",
     "output_type": "stream",
     "text": [
      "GaussianNB()\n",
      "\tTime for fitting: 0.001000\n",
      "\tAccuracy: 0.80173\tPrecision: 0.39315\tRecall: 0.16650\tF1: 0.23393\tF2: 0.18820\n",
      "\tTotal predictions: 11000\tTrue positives:  333\tFalse positives:  514\tFalse negatives: 1667\tTrue negatives: 8486\n",
      "\n",
      "----------------------------------------------------------------------------------------------------------------------\n",
      "DecisionTreeClassifier(class_weight=None, criterion='gini', max_depth=None,\n",
      "            max_features=None, max_leaf_nodes=None, min_samples_leaf=1,\n",
      "            min_samples_split=40, min_weight_fraction_leaf=0.0,\n",
      "            presort=False, random_state=None, splitter='best')\n",
      "\tTime for fitting: 0.002000\n",
      "\tAccuracy: 0.79727\tPrecision: 0.15976\tRecall: 0.02700\tF1: 0.04619\tF2: 0.03238\n",
      "\tTotal predictions: 11000\tTrue positives:   54\tFalse positives:  284\tFalse negatives: 1946\tTrue negatives: 8716\n",
      "\n",
      "----------------------------------------------------------------------------------------------------------------------\n",
      "Got a divide by zero when trying out: SVC(C=1.0, cache_size=200, class_weight=None, coef0=0.0,\n",
      "  decision_function_shape=None, degree=3, gamma='auto', kernel='rbf',\n",
      "  max_iter=-1, probability=False, random_state=None, shrinking=True,\n",
      "  tol=0.001, verbose=False)\n",
      "Precision or recall may be undefined due to a lack of true positive predicitons.\n",
      "----------------------------------------------------------------------------------------------------------------------\n",
      "AdaBoostClassifier(algorithm='SAMME',\n",
      "          base_estimator=DecisionTreeClassifier(class_weight=None, criterion='gini', max_depth=None,\n",
      "            max_features=None, max_leaf_nodes=None, min_samples_leaf=1,\n",
      "            min_samples_split=2, min_weight_fraction_leaf=0.0,\n",
      "            presort=False, random_state=None, splitter='best'),\n",
      "          learning_rate=1.0, n_estimators=200, random_state=None)\n",
      "\tTime for fitting: 0.028000\n",
      "\tAccuracy: 0.75164\tPrecision: 0.31327\tRecall: 0.30700\tF1: 0.31010\tF2: 0.30823\n",
      "\tTotal predictions: 11000\tTrue positives:  614\tFalse positives: 1346\tFalse negatives: 1386\tTrue negatives: 7654\n",
      "\n",
      "----------------------------------------------------------------------------------------------------------------------\n",
      "RandomForestClassifier(bootstrap=True, class_weight=None, criterion='gini',\n",
      "            max_depth=2, max_features='auto', max_leaf_nodes=None,\n",
      "            min_samples_leaf=1, min_samples_split=2,\n",
      "            min_weight_fraction_leaf=0.0, n_estimators=10, n_jobs=1,\n",
      "            oob_score=False, random_state=0, verbose=0, warm_start=False)\n",
      "\tTime for fitting: 0.043000\n",
      "\tAccuracy: 0.80755\tPrecision: 0.38728\tRecall: 0.10050\tF1: 0.15959\tF2: 0.11797\n",
      "\tTotal predictions: 11000\tTrue positives:  201\tFalse positives:  318\tFalse negatives: 1799\tTrue negatives: 8682\n",
      "\n",
      "----------------------------------------------------------------------------------------------------------------------\n",
      "KNeighborsClassifier(algorithm='auto', leaf_size=30, metric='minkowski',\n",
      "           metric_params=None, n_jobs=1, n_neighbors=3, p=2,\n",
      "           weights='uniform')\n",
      "\tTime for fitting: 0.001000\n",
      "\tAccuracy: 0.83627\tPrecision: 0.59256\tRecall: 0.31850\tF1: 0.41431\tF2: 0.35096\n",
      "\tTotal predictions: 11000\tTrue positives:  637\tFalse positives:  438\tFalse negatives: 1363\tTrue negatives: 8562\n",
      "\n",
      "----------------------------------------------------------------------------------------------------------------------\n",
      "KNeighborsClassifier(algorithm='auto', leaf_size=30, metric='minkowski',\n",
      "           metric_params=None, n_jobs=1, n_neighbors=5, p=2,\n",
      "           weights='uniform')\n",
      "\tTime for fitting: 0.001000\n",
      "\tAccuracy: 0.82727\tPrecision: 0.57310\tRecall: 0.19600\tF1: 0.29210\tF2: 0.22570\n",
      "\tTotal predictions: 11000\tTrue positives:  392\tFalse positives:  292\tFalse negatives: 1608\tTrue negatives: 8708\n",
      "\n",
      "----------------------------------------------------------------------------------------------------------------------\n",
      "KNeighborsClassifier(algorithm='ball_tree', leaf_size=30, metric='minkowski',\n",
      "           metric_params=None, n_jobs=1, n_neighbors=5, p=2,\n",
      "           weights='uniform')\n",
      "\tTime for fitting: 0.001000\n",
      "\tAccuracy: 0.82727\tPrecision: 0.57310\tRecall: 0.19600\tF1: 0.29210\tF2: 0.22570\n",
      "\tTotal predictions: 11000\tTrue positives:  392\tFalse positives:  292\tFalse negatives: 1608\tTrue negatives: 8708\n",
      "\n",
      "----------------------------------------------------------------------------------------------------------------------\n",
      "KNeighborsClassifier(algorithm='kd_tree', leaf_size=30, metric='minkowski',\n",
      "           metric_params=None, n_jobs=1, n_neighbors=5, p=2,\n",
      "           weights='uniform')\n",
      "\tTime for fitting: 0.002000\n",
      "\tAccuracy: 0.82727\tPrecision: 0.57310\tRecall: 0.19600\tF1: 0.29210\tF2: 0.22570\n",
      "\tTotal predictions: 11000\tTrue positives:  392\tFalse positives:  292\tFalse negatives: 1608\tTrue negatives: 8708\n",
      "\n",
      "----------------------------------------------------------------------------------------------------------------------\n"
     ]
    }
   ],
   "source": [
    "#final code\n",
    "# the first cell containg the imports needs to be run, and then we can jump directly to this cell\n",
    "\n",
    "features_list = ['poi', 'salary', 'bonus', 'fraction_from_poi', 'fraction_to_poi']\n",
    "with open(\"final_project_dataset.pkl\", \"r\") as data_file:\n",
    "    data_dict = pickle.load(data_file)\n",
    "\n",
    "data_dict.pop(\"TOTAL\",0)\n",
    "\n",
    "my_dataset = addNewFeatures(data_dict)\n",
    "\n",
    "dump_classifier_and_data(my_dataset, features_list)\n",
    "\n",
    "\n",
    "parameters = {'kernel':('linear', 'rbf'), 'C':[1, 10]}\n",
    "\n",
    "classifiers = [\n",
    "    GaussianNB(),\n",
    "    DecisionTreeClassifier(min_samples_split=40),\n",
    "    SVC(kernel=\"rbf\"),\n",
    "    AdaBoostClassifier(DecisionTreeClassifier(), algorithm=\"SAMME\", n_estimators=200),\n",
    "    RandomForestClassifier(max_depth=2, random_state=0),\n",
    "    KNeighborsClassifier(n_neighbors=3),\n",
    "    KNeighborsClassifier(),\n",
    "    KNeighborsClassifier(algorithm=\"ball_tree\"),\n",
    "    KNeighborsClassifier(algorithm=\"kd_tree\"),\n",
    "    # GridSearchCV(SVC(), parameters)\n",
    "]\n",
    "i = 0\n",
    "for clf in classifiers:\n",
    "    test_classifier(clf, my_dataset, features_list)\n",
    "    print \"----------------------------------------------------------------------------------------------------------------------\""
   ]
  },
  {
   "cell_type": "markdown",
   "metadata": {},
   "source": [
    "#### As K nearest neighbor is yielding the best result, let's tune the parameters"
   ]
  },
  {
   "cell_type": "code",
   "execution_count": 3,
   "metadata": {},
   "outputs": [
    {
     "name": "stdout",
     "output_type": "stream",
     "text": [
      "KNeighborsClassifier(algorithm='auto', leaf_size=30, metric='minkowski',\n",
      "           metric_params=None, n_jobs=1, n_neighbors=3, p=2,\n",
      "           weights='uniform')\n",
      "\tTime for fitting: 0.001000\n",
      "\tAccuracy: 0.83627\tPrecision: 0.59256\tRecall: 0.31850\tF1: 0.41431\tF2: 0.35096\n",
      "\tTotal predictions: 11000\tTrue positives:  637\tFalse positives:  438\tFalse negatives: 1363\tTrue negatives: 8562\n",
      "\n",
      "----------------------------------------------------------------------------------------------------------------------\n",
      "KNeighborsClassifier(algorithm='auto', leaf_size=30, metric='minkowski',\n",
      "           metric_params=None, n_jobs=1, n_neighbors=5, p=2,\n",
      "           weights='uniform')\n",
      "\tTime for fitting: 0.001000\n",
      "\tAccuracy: 0.82727\tPrecision: 0.57310\tRecall: 0.19600\tF1: 0.29210\tF2: 0.22570\n",
      "\tTotal predictions: 11000\tTrue positives:  392\tFalse positives:  292\tFalse negatives: 1608\tTrue negatives: 8708\n",
      "\n",
      "----------------------------------------------------------------------------------------------------------------------\n",
      "KNeighborsClassifier(algorithm='ball_tree', leaf_size=30, metric='minkowski',\n",
      "           metric_params=None, n_jobs=1, n_neighbors=5, p=2,\n",
      "           weights='uniform')\n",
      "\tTime for fitting: 0.001000\n",
      "\tAccuracy: 0.82727\tPrecision: 0.57310\tRecall: 0.19600\tF1: 0.29210\tF2: 0.22570\n",
      "\tTotal predictions: 11000\tTrue positives:  392\tFalse positives:  292\tFalse negatives: 1608\tTrue negatives: 8708\n",
      "\n",
      "----------------------------------------------------------------------------------------------------------------------\n",
      "KNeighborsClassifier(algorithm='kd_tree', leaf_size=30, metric='minkowski',\n",
      "           metric_params=None, n_jobs=1, n_neighbors=5, p=2,\n",
      "           weights='uniform')\n",
      "\tTime for fitting: 0.001000\n",
      "\tAccuracy: 0.82727\tPrecision: 0.57310\tRecall: 0.19600\tF1: 0.29210\tF2: 0.22570\n",
      "\tTotal predictions: 11000\tTrue positives:  392\tFalse positives:  292\tFalse negatives: 1608\tTrue negatives: 8708\n",
      "\n",
      "----------------------------------------------------------------------------------------------------------------------\n",
      "KNeighborsClassifier(algorithm='ball_tree', leaf_size=40, metric='minkowski',\n",
      "           metric_params=None, n_jobs=1, n_neighbors=5, p=2,\n",
      "           weights='uniform')\n",
      "\tTime for fitting: 0.001000\n",
      "\tAccuracy: 0.82727\tPrecision: 0.57310\tRecall: 0.19600\tF1: 0.29210\tF2: 0.22570\n",
      "\tTotal predictions: 11000\tTrue positives:  392\tFalse positives:  292\tFalse negatives: 1608\tTrue negatives: 8708\n",
      "\n",
      "----------------------------------------------------------------------------------------------------------------------\n",
      "KNeighborsClassifier(algorithm='kd_tree', leaf_size=40, metric='minkowski',\n",
      "           metric_params=None, n_jobs=1, n_neighbors=5, p=2,\n",
      "           weights='uniform')\n",
      "\tTime for fitting: 0.001000\n",
      "\tAccuracy: 0.82727\tPrecision: 0.57310\tRecall: 0.19600\tF1: 0.29210\tF2: 0.22570\n",
      "\tTotal predictions: 11000\tTrue positives:  392\tFalse positives:  292\tFalse negatives: 1608\tTrue negatives: 8708\n",
      "\n",
      "----------------------------------------------------------------------------------------------------------------------\n"
     ]
    }
   ],
   "source": [
    "classifiers = [\n",
    "    KNeighborsClassifier(n_neighbors=3), # k = 3\n",
    "    KNeighborsClassifier(), # k =5\n",
    "    KNeighborsClassifier(algorithm=\"ball_tree\"),\n",
    "    KNeighborsClassifier(algorithm=\"kd_tree\"),\n",
    "    KNeighborsClassifier(algorithm=\"ball_tree\", leaf_size=40), #leaf size tells the number of leaves after which the algo turns to brute\n",
    "    KNeighborsClassifier(algorithm=\"kd_tree\", leaf_size=40) # leaf_size affects the speed of search\n",
    "]\n",
    "i = 0\n",
    "for clf in classifiers:\n",
    "    test_classifier(clf, my_dataset, features_list)\n",
    "    print \"----------------------------------------------------------------------------------------------------------------------\"\n",
    "    \n",
    "# a greater k is suppressing the noise, but looks like here it is underfitting\n",
    "# increasing the leaf_size is not speeding up the process (atleast upto 3 decimal places)"
   ]
  },
  {
   "cell_type": "code",
   "execution_count": null,
   "metadata": {},
   "outputs": [],
   "source": []
  }
 ],
 "metadata": {
  "kernelspec": {
   "display_name": "Python 2",
   "language": "python",
   "name": "python2"
  },
  "language_info": {
   "codemirror_mode": {
    "name": "ipython",
    "version": 2
   },
   "file_extension": ".py",
   "mimetype": "text/x-python",
   "name": "python",
   "nbconvert_exporter": "python",
   "pygments_lexer": "ipython2",
   "version": "2.7.6"
  }
 },
 "nbformat": 4,
 "nbformat_minor": 2
}
