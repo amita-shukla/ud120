{
 "cells": [
  {
   "cell_type": "markdown",
   "metadata": {},
   "source": [
    "## Starter code for exploring the Enron dataset (emails + finances);\n",
    "loads up the dataset (pickled dict of dicts).\n",
    "\n",
    "The dataset has the form:\n",
    "`enron_data[\"LASTNAME FIRSTNAME MIDDLEINITIAL\"] = { features_dict }`\n",
    "\n",
    "`{features_dict}` is a dictionary of features associated with that person.\n",
    "You should explore `features_dict` as part of the mini-project,\n",
    "but here's an example to get you started:\n",
    "\n",
    "`enron_data[\"SKILLING JEFFREY K\"][\"bonus\"] = 5600000`"
   ]
  },
  {
   "cell_type": "code",
   "execution_count": 2,
   "metadata": {},
   "outputs": [],
   "source": [
    "import pickle\n",
    "\n",
    "enron_data = pickle.load(open(\"../final_project/final_project_dataset.pkl\", \"r\"))"
   ]
  },
  {
   "cell_type": "markdown",
   "metadata": {},
   "source": [
    "### How many data points (number of people) in enron_data?"
   ]
  },
  {
   "cell_type": "code",
   "execution_count": 4,
   "metadata": {},
   "outputs": [],
   "source": [
    "len(enron_data)"
   ]
  },
  {
   "cell_type": "code",
   "execution_count": 5,
   "metadata": {},
   "outputs": [
    {
     "data": {
      "text/plain": [
       "146"
      ]
     },
     "execution_count": 5,
     "metadata": {},
     "output_type": "execute_result"
    }
   ],
   "source": [
    "len(enron_data.keys())"
   ]
  },
  {
   "cell_type": "markdown",
   "metadata": {},
   "source": [
    "### No. of features"
   ]
  },
  {
   "cell_type": "code",
   "execution_count": 7,
   "metadata": {},
   "outputs": [
    {
     "data": {
      "text/plain": [
       "21"
      ]
     },
     "execution_count": 7,
     "metadata": {},
     "output_type": "execute_result"
    }
   ],
   "source": [
    "len(enron_data.values()[0])"
   ]
  },
  {
   "cell_type": "markdown",
   "metadata": {},
   "source": [
    "### print sample data point"
   ]
  },
  {
   "cell_type": "code",
   "execution_count": 3,
   "metadata": {},
   "outputs": [
    {
     "data": {
      "text/plain": [
       "('METTS MARK',\n",
       " {'bonus': 600000,\n",
       "  'deferral_payments': 'NaN',\n",
       "  'deferred_income': 'NaN',\n",
       "  'director_fees': 'NaN',\n",
       "  'email_address': 'mark.metts@enron.com',\n",
       "  'exercised_stock_options': 'NaN',\n",
       "  'expenses': 94299,\n",
       "  'from_messages': 29,\n",
       "  'from_poi_to_this_person': 38,\n",
       "  'from_this_person_to_poi': 1,\n",
       "  'loan_advances': 'NaN',\n",
       "  'long_term_incentive': 'NaN',\n",
       "  'other': 1740,\n",
       "  'poi': False,\n",
       "  'restricted_stock': 585062,\n",
       "  'restricted_stock_deferred': 'NaN',\n",
       "  'salary': 365788,\n",
       "  'shared_receipt_with_poi': 702,\n",
       "  'to_messages': 807,\n",
       "  'total_payments': 1061827,\n",
       "  'total_stock_value': 585062})"
      ]
     },
     "execution_count": 3,
     "metadata": {},
     "output_type": "execute_result"
    }
   ],
   "source": [
    "enron_data.items()[0]"
   ]
  },
  {
   "cell_type": "markdown",
   "metadata": {},
   "source": [
    "### number of poi/ poi feature records"
   ]
  },
  {
   "cell_type": "code",
   "execution_count": 28,
   "metadata": {},
   "outputs": [],
   "source": [
    "x=[item for item in enron_data.values() if item['poi']=='True']"
   ]
  },
  {
   "cell_type": "code",
   "execution_count": 29,
   "metadata": {},
   "outputs": [
    {
     "data": {
      "text/plain": [
       "[]"
      ]
     },
     "execution_count": 29,
     "metadata": {},
     "output_type": "execute_result"
    }
   ],
   "source": [
    "x"
   ]
  },
  {
   "cell_type": "code",
   "execution_count": 30,
   "metadata": {},
   "outputs": [],
   "source": [
    "x=[item for item in enron_data.values() if item['poi']==1]"
   ]
  },
  {
   "cell_type": "code",
   "execution_count": 31,
   "metadata": {},
   "outputs": [
    {
     "data": {
      "text/plain": [
       "[{'bonus': 1500000,\n",
       "  'deferral_payments': 'NaN',\n",
       "  'deferred_income': -3117011,\n",
       "  'director_fees': 'NaN',\n",
       "  'email_address': 'kevin.hannon@enron.com',\n",
       "  'exercised_stock_options': 5538001,\n",
       "  'expenses': 34039,\n",
       "  'from_messages': 32,\n",
       "  'from_poi_to_this_person': 32,\n",
       "  'from_this_person_to_poi': 21,\n",
       "  'loan_advances': 'NaN',\n",
       "  'long_term_incentive': 1617011,\n",
       "  'other': 11350,\n",
       "  'poi': True,\n",
       "  'restricted_stock': 853064,\n",
       "  'restricted_stock_deferred': 'NaN',\n",
       "  'salary': 243293,\n",
       "  'shared_receipt_with_poi': 1035,\n",
       "  'to_messages': 1045,\n",
       "  'total_payments': 288682,\n",
       "  'total_stock_value': 6391065},\n",
       " {'bonus': 1200000,\n",
       "  'deferral_payments': 27610,\n",
       "  'deferred_income': -144062,\n",
       "  'director_fees': 'NaN',\n",
       "  'email_address': 'wes.colwell@enron.com',\n",
       "  'exercised_stock_options': 'NaN',\n",
       "  'expenses': 16514,\n",
       "  'from_messages': 40,\n",
       "  'from_poi_to_this_person': 240,\n",
       "  'from_this_person_to_poi': 11,\n",
       "  'loan_advances': 'NaN',\n",
       "  'long_term_incentive': 'NaN',\n",
       "  'other': 101740,\n",
       "  'poi': True,\n",
       "  'restricted_stock': 698242,\n",
       "  'restricted_stock_deferred': 'NaN',\n",
       "  'salary': 288542,\n",
       "  'shared_receipt_with_poi': 1132,\n",
       "  'to_messages': 1758,\n",
       "  'total_payments': 1490344,\n",
       "  'total_stock_value': 698242},\n",
       " {'bonus': 700000,\n",
       "  'deferral_payments': 214678,\n",
       "  'deferred_income': -100000,\n",
       "  'director_fees': 'NaN',\n",
       "  'email_address': 'paula.rieker@enron.com',\n",
       "  'exercised_stock_options': 1635238,\n",
       "  'expenses': 33271,\n",
       "  'from_messages': 82,\n",
       "  'from_poi_to_this_person': 35,\n",
       "  'from_this_person_to_poi': 48,\n",
       "  'loan_advances': 'NaN',\n",
       "  'long_term_incentive': 'NaN',\n",
       "  'other': 1950,\n",
       "  'poi': True,\n",
       "  'restricted_stock': 283649,\n",
       "  'restricted_stock_deferred': 'NaN',\n",
       "  'salary': 249201,\n",
       "  'shared_receipt_with_poi': 1258,\n",
       "  'to_messages': 1328,\n",
       "  'total_payments': 1099100,\n",
       "  'total_stock_value': 1918887},\n",
       " {'bonus': 800000,\n",
       "  'deferral_payments': 'NaN',\n",
       "  'deferred_income': 'NaN',\n",
       "  'director_fees': 'NaN',\n",
       "  'email_address': 'michael.kopper@enron.com',\n",
       "  'exercised_stock_options': 'NaN',\n",
       "  'expenses': 118134,\n",
       "  'from_messages': 'NaN',\n",
       "  'from_poi_to_this_person': 'NaN',\n",
       "  'from_this_person_to_poi': 'NaN',\n",
       "  'loan_advances': 'NaN',\n",
       "  'long_term_incentive': 602671,\n",
       "  'other': 907502,\n",
       "  'poi': True,\n",
       "  'restricted_stock': 985032,\n",
       "  'restricted_stock_deferred': 'NaN',\n",
       "  'salary': 224305,\n",
       "  'shared_receipt_with_poi': 'NaN',\n",
       "  'to_messages': 'NaN',\n",
       "  'total_payments': 2652612,\n",
       "  'total_stock_value': 985032},\n",
       " {'bonus': 200000,\n",
       "  'deferral_payments': 'NaN',\n",
       "  'deferred_income': -4167,\n",
       "  'director_fees': 'NaN',\n",
       "  'email_address': 'rex.shelby@enron.com',\n",
       "  'exercised_stock_options': 1624396,\n",
       "  'expenses': 22884,\n",
       "  'from_messages': 39,\n",
       "  'from_poi_to_this_person': 13,\n",
       "  'from_this_person_to_poi': 14,\n",
       "  'loan_advances': 'NaN',\n",
       "  'long_term_incentive': 'NaN',\n",
       "  'other': 1573324,\n",
       "  'poi': True,\n",
       "  'restricted_stock': 869220,\n",
       "  'restricted_stock_deferred': 'NaN',\n",
       "  'salary': 211844,\n",
       "  'shared_receipt_with_poi': 91,\n",
       "  'to_messages': 225,\n",
       "  'total_payments': 2003885,\n",
       "  'total_stock_value': 2493616},\n",
       " {'bonus': 3000000,\n",
       "  'deferral_payments': 'NaN',\n",
       "  'deferred_income': 'NaN',\n",
       "  'director_fees': 'NaN',\n",
       "  'email_address': 'david.delainey@enron.com',\n",
       "  'exercised_stock_options': 2291113,\n",
       "  'expenses': 86174,\n",
       "  'from_messages': 3069,\n",
       "  'from_poi_to_this_person': 66,\n",
       "  'from_this_person_to_poi': 609,\n",
       "  'loan_advances': 'NaN',\n",
       "  'long_term_incentive': 1294981,\n",
       "  'other': 1661,\n",
       "  'poi': True,\n",
       "  'restricted_stock': 1323148,\n",
       "  'restricted_stock_deferred': 'NaN',\n",
       "  'salary': 365163,\n",
       "  'shared_receipt_with_poi': 2097,\n",
       "  'to_messages': 3093,\n",
       "  'total_payments': 4747979,\n",
       "  'total_stock_value': 3614261},\n",
       " {'bonus': 7000000,\n",
       "  'deferral_payments': 202911,\n",
       "  'deferred_income': -300000,\n",
       "  'director_fees': 'NaN',\n",
       "  'email_address': 'kenneth.lay@enron.com',\n",
       "  'exercised_stock_options': 34348384,\n",
       "  'expenses': 99832,\n",
       "  'from_messages': 36,\n",
       "  'from_poi_to_this_person': 123,\n",
       "  'from_this_person_to_poi': 16,\n",
       "  'loan_advances': 81525000,\n",
       "  'long_term_incentive': 3600000,\n",
       "  'other': 10359729,\n",
       "  'poi': True,\n",
       "  'restricted_stock': 14761694,\n",
       "  'restricted_stock_deferred': 'NaN',\n",
       "  'salary': 1072321,\n",
       "  'shared_receipt_with_poi': 2411,\n",
       "  'to_messages': 4273,\n",
       "  'total_payments': 103559793,\n",
       "  'total_stock_value': 49110078},\n",
       " {'bonus': 1350000,\n",
       "  'deferral_payments': 'NaN',\n",
       "  'deferred_income': -833,\n",
       "  'director_fees': 'NaN',\n",
       "  'email_address': 'raymond.bowen@enron.com',\n",
       "  'exercised_stock_options': 'NaN',\n",
       "  'expenses': 65907,\n",
       "  'from_messages': 27,\n",
       "  'from_poi_to_this_person': 140,\n",
       "  'from_this_person_to_poi': 15,\n",
       "  'loan_advances': 'NaN',\n",
       "  'long_term_incentive': 974293,\n",
       "  'other': 1621,\n",
       "  'poi': True,\n",
       "  'restricted_stock': 252055,\n",
       "  'restricted_stock_deferred': 'NaN',\n",
       "  'salary': 278601,\n",
       "  'shared_receipt_with_poi': 1593,\n",
       "  'to_messages': 1858,\n",
       "  'total_payments': 2669589,\n",
       "  'total_stock_value': 252055},\n",
       " {'bonus': 5249999,\n",
       "  'deferral_payments': 2144013,\n",
       "  'deferred_income': -2334434,\n",
       "  'director_fees': 'NaN',\n",
       "  'email_address': 'tim.belden@enron.com',\n",
       "  'exercised_stock_options': 953136,\n",
       "  'expenses': 17355,\n",
       "  'from_messages': 484,\n",
       "  'from_poi_to_this_person': 228,\n",
       "  'from_this_person_to_poi': 108,\n",
       "  'loan_advances': 'NaN',\n",
       "  'long_term_incentive': 'NaN',\n",
       "  'other': 210698,\n",
       "  'poi': True,\n",
       "  'restricted_stock': 157569,\n",
       "  'restricted_stock_deferred': 'NaN',\n",
       "  'salary': 213999,\n",
       "  'shared_receipt_with_poi': 5521,\n",
       "  'to_messages': 7991,\n",
       "  'total_payments': 5501630,\n",
       "  'total_stock_value': 1110705},\n",
       " {'bonus': 1300000,\n",
       "  'deferral_payments': 'NaN',\n",
       "  'deferred_income': -1386055,\n",
       "  'director_fees': 'NaN',\n",
       "  'email_address': 'andrew.fastow@enron.com',\n",
       "  'exercised_stock_options': 'NaN',\n",
       "  'expenses': 55921,\n",
       "  'from_messages': 'NaN',\n",
       "  'from_poi_to_this_person': 'NaN',\n",
       "  'from_this_person_to_poi': 'NaN',\n",
       "  'loan_advances': 'NaN',\n",
       "  'long_term_incentive': 1736055,\n",
       "  'other': 277464,\n",
       "  'poi': True,\n",
       "  'restricted_stock': 1794412,\n",
       "  'restricted_stock_deferred': 'NaN',\n",
       "  'salary': 440698,\n",
       "  'shared_receipt_with_poi': 'NaN',\n",
       "  'to_messages': 'NaN',\n",
       "  'total_payments': 2424083,\n",
       "  'total_stock_value': 1794412},\n",
       " {'bonus': 1250000,\n",
       "  'deferral_payments': 'NaN',\n",
       "  'deferred_income': -262500,\n",
       "  'director_fees': 'NaN',\n",
       "  'email_address': 'christopher.calger@enron.com',\n",
       "  'exercised_stock_options': 'NaN',\n",
       "  'expenses': 35818,\n",
       "  'from_messages': 144,\n",
       "  'from_poi_to_this_person': 199,\n",
       "  'from_this_person_to_poi': 25,\n",
       "  'loan_advances': 'NaN',\n",
       "  'long_term_incentive': 375304,\n",
       "  'other': 486,\n",
       "  'poi': True,\n",
       "  'restricted_stock': 126027,\n",
       "  'restricted_stock_deferred': 'NaN',\n",
       "  'salary': 240189,\n",
       "  'shared_receipt_with_poi': 2188,\n",
       "  'to_messages': 2598,\n",
       "  'total_payments': 1639297,\n",
       "  'total_stock_value': 126027},\n",
       " {'bonus': 1750000,\n",
       "  'deferral_payments': 'NaN',\n",
       "  'deferred_income': -3504386,\n",
       "  'director_fees': 'NaN',\n",
       "  'email_address': 'ken.rice@enron.com',\n",
       "  'exercised_stock_options': 19794175,\n",
       "  'expenses': 46950,\n",
       "  'from_messages': 18,\n",
       "  'from_poi_to_this_person': 42,\n",
       "  'from_this_person_to_poi': 4,\n",
       "  'loan_advances': 'NaN',\n",
       "  'long_term_incentive': 1617011,\n",
       "  'other': 174839,\n",
       "  'poi': True,\n",
       "  'restricted_stock': 2748364,\n",
       "  'restricted_stock_deferred': 'NaN',\n",
       "  'salary': 420636,\n",
       "  'shared_receipt_with_poi': 864,\n",
       "  'to_messages': 905,\n",
       "  'total_payments': 505050,\n",
       "  'total_stock_value': 22542539},\n",
       " {'bonus': 5600000,\n",
       "  'deferral_payments': 'NaN',\n",
       "  'deferred_income': 'NaN',\n",
       "  'director_fees': 'NaN',\n",
       "  'email_address': 'jeff.skilling@enron.com',\n",
       "  'exercised_stock_options': 19250000,\n",
       "  'expenses': 29336,\n",
       "  'from_messages': 108,\n",
       "  'from_poi_to_this_person': 88,\n",
       "  'from_this_person_to_poi': 30,\n",
       "  'loan_advances': 'NaN',\n",
       "  'long_term_incentive': 1920000,\n",
       "  'other': 22122,\n",
       "  'poi': True,\n",
       "  'restricted_stock': 6843672,\n",
       "  'restricted_stock_deferred': 'NaN',\n",
       "  'salary': 1111258,\n",
       "  'shared_receipt_with_poi': 2042,\n",
       "  'to_messages': 3627,\n",
       "  'total_payments': 8682716,\n",
       "  'total_stock_value': 26093672},\n",
       " {'bonus': 'NaN',\n",
       "  'deferral_payments': 'NaN',\n",
       "  'deferred_income': 'NaN',\n",
       "  'director_fees': 'NaN',\n",
       "  'email_address': 'scott.yeager@enron.com',\n",
       "  'exercised_stock_options': 8308552,\n",
       "  'expenses': 53947,\n",
       "  'from_messages': 'NaN',\n",
       "  'from_poi_to_this_person': 'NaN',\n",
       "  'from_this_person_to_poi': 'NaN',\n",
       "  'loan_advances': 'NaN',\n",
       "  'long_term_incentive': 'NaN',\n",
       "  'other': 147950,\n",
       "  'poi': True,\n",
       "  'restricted_stock': 3576206,\n",
       "  'restricted_stock_deferred': 'NaN',\n",
       "  'salary': 158403,\n",
       "  'shared_receipt_with_poi': 'NaN',\n",
       "  'to_messages': 'NaN',\n",
       "  'total_payments': 360300,\n",
       "  'total_stock_value': 11884758},\n",
       " {'bonus': 'NaN',\n",
       "  'deferral_payments': 10259,\n",
       "  'deferred_income': 'NaN',\n",
       "  'director_fees': 'NaN',\n",
       "  'email_address': 'joe.hirko@enron.com',\n",
       "  'exercised_stock_options': 30766064,\n",
       "  'expenses': 77978,\n",
       "  'from_messages': 'NaN',\n",
       "  'from_poi_to_this_person': 'NaN',\n",
       "  'from_this_person_to_poi': 'NaN',\n",
       "  'loan_advances': 'NaN',\n",
       "  'long_term_incentive': 'NaN',\n",
       "  'other': 2856,\n",
       "  'poi': True,\n",
       "  'restricted_stock': 'NaN',\n",
       "  'restricted_stock_deferred': 'NaN',\n",
       "  'salary': 'NaN',\n",
       "  'shared_receipt_with_poi': 'NaN',\n",
       "  'to_messages': 'NaN',\n",
       "  'total_payments': 91093,\n",
       "  'total_stock_value': 30766064},\n",
       " {'bonus': 700000,\n",
       "  'deferral_payments': 'NaN',\n",
       "  'deferred_income': 'NaN',\n",
       "  'director_fees': 'NaN',\n",
       "  'email_address': 'mark.koenig@enron.com',\n",
       "  'exercised_stock_options': 671737,\n",
       "  'expenses': 127017,\n",
       "  'from_messages': 61,\n",
       "  'from_poi_to_this_person': 53,\n",
       "  'from_this_person_to_poi': 15,\n",
       "  'loan_advances': 'NaN',\n",
       "  'long_term_incentive': 300000,\n",
       "  'other': 150458,\n",
       "  'poi': True,\n",
       "  'restricted_stock': 1248318,\n",
       "  'restricted_stock_deferred': 'NaN',\n",
       "  'salary': 309946,\n",
       "  'shared_receipt_with_poi': 2271,\n",
       "  'to_messages': 2374,\n",
       "  'total_payments': 1587421,\n",
       "  'total_stock_value': 1920055},\n",
       " {'bonus': 1000000,\n",
       "  'deferral_payments': 'NaN',\n",
       "  'deferred_income': -235000,\n",
       "  'director_fees': 'NaN',\n",
       "  'email_address': 'richard.causey@enron.com',\n",
       "  'exercised_stock_options': 'NaN',\n",
       "  'expenses': 30674,\n",
       "  'from_messages': 49,\n",
       "  'from_poi_to_this_person': 58,\n",
       "  'from_this_person_to_poi': 12,\n",
       "  'loan_advances': 'NaN',\n",
       "  'long_term_incentive': 350000,\n",
       "  'other': 307895,\n",
       "  'poi': True,\n",
       "  'restricted_stock': 2502063,\n",
       "  'restricted_stock_deferred': 'NaN',\n",
       "  'salary': 415189,\n",
       "  'shared_receipt_with_poi': 1585,\n",
       "  'to_messages': 1892,\n",
       "  'total_payments': 1868758,\n",
       "  'total_stock_value': 2502063},\n",
       " {'bonus': 600000,\n",
       "  'deferral_payments': 'NaN',\n",
       "  'deferred_income': 'NaN',\n",
       "  'director_fees': 'NaN',\n",
       "  'email_address': 'ben.glisan@enron.com',\n",
       "  'exercised_stock_options': 384728,\n",
       "  'expenses': 125978,\n",
       "  'from_messages': 16,\n",
       "  'from_poi_to_this_person': 52,\n",
       "  'from_this_person_to_poi': 6,\n",
       "  'loan_advances': 'NaN',\n",
       "  'long_term_incentive': 71023,\n",
       "  'other': 200308,\n",
       "  'poi': True,\n",
       "  'restricted_stock': 393818,\n",
       "  'restricted_stock_deferred': 'NaN',\n",
       "  'salary': 274975,\n",
       "  'shared_receipt_with_poi': 874,\n",
       "  'to_messages': 873,\n",
       "  'total_payments': 1272284,\n",
       "  'total_stock_value': 778546}]"
      ]
     },
     "execution_count": 31,
     "metadata": {},
     "output_type": "execute_result"
    }
   ],
   "source": [
    "x"
   ]
  },
  {
   "cell_type": "code",
   "execution_count": 32,
   "metadata": {},
   "outputs": [
    {
     "ename": "SyntaxError",
     "evalue": "invalid syntax (<ipython-input-32-dde49022b9f4>, line 1)",
     "output_type": "error",
     "traceback": [
      "\u001b[0;36m  File \u001b[0;32m\"<ipython-input-32-dde49022b9f4>\"\u001b[0;36m, line \u001b[0;32m1\u001b[0m\n\u001b[0;31m    [item for item in enron_data.values() if item['poi']=1].len\u001b[0m\n\u001b[0m                                                        ^\u001b[0m\n\u001b[0;31mSyntaxError\u001b[0m\u001b[0;31m:\u001b[0m invalid syntax\n"
     ]
    }
   ],
   "source": [
    "[item for item in enron_data.values() if item['poi']=1].len"
   ]
  },
  {
   "cell_type": "code",
   "execution_count": 33,
   "metadata": {},
   "outputs": [
    {
     "ename": "AttributeError",
     "evalue": "'list' object has no attribute 'len'",
     "output_type": "error",
     "traceback": [
      "\u001b[0;31m\u001b[0m",
      "\u001b[0;31mAttributeError\u001b[0mTraceback (most recent call last)",
      "\u001b[0;32m<ipython-input-33-c8460d1f2618>\u001b[0m in \u001b[0;36m<module>\u001b[0;34m()\u001b[0m\n\u001b[0;32m----> 1\u001b[0;31m \u001b[0;34m[\u001b[0m\u001b[0mitem\u001b[0m \u001b[0;32mfor\u001b[0m \u001b[0mitem\u001b[0m \u001b[0;32min\u001b[0m \u001b[0menron_data\u001b[0m\u001b[0;34m.\u001b[0m\u001b[0mvalues\u001b[0m\u001b[0;34m(\u001b[0m\u001b[0;34m)\u001b[0m \u001b[0;32mif\u001b[0m \u001b[0mitem\u001b[0m\u001b[0;34m[\u001b[0m\u001b[0;34m'poi'\u001b[0m\u001b[0;34m]\u001b[0m\u001b[0;34m==\u001b[0m\u001b[0;36m1\u001b[0m\u001b[0;34m]\u001b[0m\u001b[0;34m.\u001b[0m\u001b[0mlen\u001b[0m\u001b[0;34m\u001b[0m\u001b[0m\n\u001b[0m",
      "\u001b[0;31mAttributeError\u001b[0m: 'list' object has no attribute 'len'"
     ]
    }
   ],
   "source": [
    "[item for item in enron_data.values() if item['poi']==1].len"
   ]
  },
  {
   "cell_type": "code",
   "execution_count": 32,
   "metadata": {},
   "outputs": [
    {
     "data": {
      "text/plain": [
       "18"
      ]
     },
     "execution_count": 32,
     "metadata": {},
     "output_type": "execute_result"
    }
   ],
   "source": [
    "poi=len([item for item in enron_data.values() if item['poi']==1])\n",
    "poi"
   ]
  },
  {
   "cell_type": "markdown",
   "metadata": {},
   "source": [
    "### How many POIs exist?/ No. of POIs in the text file"
   ]
  },
  {
   "cell_type": "code",
   "execution_count": 35,
   "metadata": {},
   "outputs": [
    {
     "ename": "AttributeError",
     "evalue": "type object 'file' has no attribute 'load'",
     "output_type": "error",
     "traceback": [
      "\u001b[0;31m\u001b[0m",
      "\u001b[0;31mAttributeError\u001b[0mTraceback (most recent call last)",
      "\u001b[0;32m<ipython-input-35-c866647884be>\u001b[0m in \u001b[0;36m<module>\u001b[0;34m()\u001b[0m\n\u001b[0;32m----> 1\u001b[0;31m \u001b[0mpoi_names_file\u001b[0m \u001b[0;34m=\u001b[0m \u001b[0mfile\u001b[0m\u001b[0;34m.\u001b[0m\u001b[0mload\u001b[0m\u001b[0;34m(\u001b[0m\u001b[0mopen\u001b[0m\u001b[0;34m(\u001b[0m\u001b[0;34m\"../final_project/poi_names.txt\"\u001b[0m\u001b[0;34m,\u001b[0m \u001b[0;34m\"r\"\u001b[0m\u001b[0;34m)\u001b[0m\u001b[0;34m)\u001b[0m\u001b[0;34m\u001b[0m\u001b[0m\n\u001b[0m",
      "\u001b[0;31mAttributeError\u001b[0m: type object 'file' has no attribute 'load'"
     ]
    }
   ],
   "source": [
    "poi_names_file = file.load(open(\"../final_project/poi_names.txt\", \"r\"))"
   ]
  },
  {
   "cell_type": "code",
   "execution_count": 36,
   "metadata": {},
   "outputs": [],
   "source": [
    "poi_names_file = open(\"../final_project/poi_names.txt\", \"r\")"
   ]
  },
  {
   "cell_type": "code",
   "execution_count": 40,
   "metadata": {},
   "outputs": [
    {
     "ename": "AttributeError",
     "evalue": "'file' object has no attribute 'readLines'",
     "output_type": "error",
     "traceback": [
      "\u001b[0;31m\u001b[0m",
      "\u001b[0;31mAttributeError\u001b[0mTraceback (most recent call last)",
      "\u001b[0;32m<ipython-input-40-c2b565dfb70f>\u001b[0m in \u001b[0;36m<module>\u001b[0;34m()\u001b[0m\n\u001b[0;32m----> 1\u001b[0;31m \u001b[0mpoi_names_file\u001b[0m\u001b[0;34m.\u001b[0m\u001b[0mreadLines\u001b[0m\u001b[0;34m(\u001b[0m\u001b[0;34m)\u001b[0m\u001b[0;34m\u001b[0m\u001b[0m\n\u001b[0m",
      "\u001b[0;31mAttributeError\u001b[0m: 'file' object has no attribute 'readLines'"
     ]
    }
   ],
   "source": [
    "poi_names_file.readLines()"
   ]
  },
  {
   "cell_type": "code",
   "execution_count": 41,
   "metadata": {},
   "outputs": [
    {
     "data": {
      "text/plain": [
       "<function readline>"
      ]
     },
     "execution_count": 41,
     "metadata": {},
     "output_type": "execute_result"
    }
   ],
   "source": [
    "poi_names_file.readline"
   ]
  },
  {
   "cell_type": "code",
   "execution_count": 42,
   "metadata": {},
   "outputs": [],
   "source": [
    "string=poi_names_file.readline"
   ]
  },
  {
   "cell_type": "code",
   "execution_count": 43,
   "metadata": {},
   "outputs": [
    {
     "name": "stdout",
     "output_type": "stream",
     "text": [
      "<built-in method readline of file object at 0x7f2f51935810>\n"
     ]
    }
   ],
   "source": [
    "print string"
   ]
  },
  {
   "cell_type": "code",
   "execution_count": 47,
   "metadata": {},
   "outputs": [
    {
     "name": "stdout",
     "output_type": "stream",
     "text": [
      "['http://usatoday30.usatoday.com/money/industries/energy/2005-12-28-enron-participants_x.htm\\n', '\\n', '(y) Lay, Kenneth\\n', '(y) Skilling, Jeffrey\\n', '(n) Howard, Kevin\\n', '(n) Krautz, Michael\\n', '(n) Yeager, Scott\\n', '(n) Hirko, Joseph\\n', '(n) Shelby, Rex\\n', '(n) Bermingham, David\\n', '(n) Darby, Giles\\n', '(n) Mulgrew, Gary\\n', '(n) Bayley, Daniel\\n', '(n) Brown, James\\n', '(n) Furst, Robert\\n', '(n) Fuhs, William\\n', '(n) Causey, Richard\\n', '(n) Calger, Christopher\\n', '(n) DeSpain, Timothy\\n', '(n) Hannon, Kevin\\n', '(n) Koenig, Mark\\n', '(y) Forney, John\\n', '(n) Rice, Kenneth\\n', '(n) Rieker, Paula\\n', '(n) Fastow, Lea\\n', '(n) Fastow, Andrew\\n', '(y) Delainey, David\\n', '(n) Glisan, Ben\\n', '(n) Richter, Jeffrey\\n', '(n) Lawyer, Larry\\n', '(n) Belden, Timothy\\n', '(n) Kopper, Michael\\n', '(n) Duncan, David\\n', '(n) Bowen, Raymond\\n', '(n) Colwell, Wesley\\n', '(n) Boyle, Dan\\n', '(n) Loehr, Christopher\\n']\n"
     ]
    }
   ],
   "source": [
    "print(poi_names_file.readlines())"
   ]
  },
  {
   "cell_type": "code",
   "execution_count": 52,
   "metadata": {},
   "outputs": [
    {
     "name": "stdout",
     "output_type": "stream",
     "text": [
      "http://usatoday30.usatoday.com/money/industries/energy/2005-12-28-enron-participants_x.htm\n",
      "\n",
      "\n",
      "\n",
      "(y) Lay, Kenneth\n",
      "\n",
      "(y) Skilling, Jeffrey\n",
      "\n",
      "(n) Howard, Kevin\n",
      "\n",
      "(n) Krautz, Michael\n",
      "\n",
      "(n) Yeager, Scott\n",
      "\n",
      "(n) Hirko, Joseph\n",
      "\n",
      "(n) Shelby, Rex\n",
      "\n",
      "(n) Bermingham, David\n",
      "\n",
      "(n) Darby, Giles\n",
      "\n",
      "(n) Mulgrew, Gary\n",
      "\n",
      "(n) Bayley, Daniel\n",
      "\n",
      "(n) Brown, James\n",
      "\n",
      "(n) Furst, Robert\n",
      "\n",
      "(n) Fuhs, William\n",
      "\n",
      "(n) Causey, Richard\n",
      "\n",
      "(n) Calger, Christopher\n",
      "\n",
      "(n) DeSpain, Timothy\n",
      "\n",
      "(n) Hannon, Kevin\n",
      "\n",
      "(n) Koenig, Mark\n",
      "\n",
      "(y) Forney, John\n",
      "\n",
      "(n) Rice, Kenneth\n",
      "\n",
      "(n) Rieker, Paula\n",
      "\n",
      "(n) Fastow, Lea\n",
      "\n",
      "(n) Fastow, Andrew\n",
      "\n",
      "(y) Delainey, David\n",
      "\n",
      "(n) Glisan, Ben\n",
      "\n",
      "(n) Richter, Jeffrey\n",
      "\n",
      "(n) Lawyer, Larry\n",
      "\n",
      "(n) Belden, Timothy\n",
      "\n",
      "(n) Kopper, Michael\n",
      "\n",
      "(n) Duncan, David\n",
      "\n",
      "(n) Bowen, Raymond\n",
      "\n",
      "(n) Colwell, Wesley\n",
      "\n",
      "(n) Boyle, Dan\n",
      "\n",
      "(n) Loehr, Christopher\n",
      "\n"
     ]
    }
   ],
   "source": [
    "with open(\"../final_project/poi_names.txt\") as f: \n",
    "    for line in f: \n",
    "        print line"
   ]
  },
  {
   "cell_type": "code",
   "execution_count": 56,
   "metadata": {},
   "outputs": [
    {
     "name": "stdout",
     "output_type": "stream",
     "text": [
      "37\n"
     ]
    }
   ],
   "source": [
    "line_count=0\n",
    "with open(\"../final_project/poi_names.txt\") as f: \n",
    "    for line in f: \n",
    "        line_count=line_count+1\n",
    "print line_count"
   ]
  },
  {
   "cell_type": "code",
   "execution_count": 10,
   "metadata": {},
   "outputs": [
    {
     "data": {
      "text/plain": [
       "35"
      ]
     },
     "execution_count": 10,
     "metadata": {},
     "output_type": "execute_result"
    }
   ],
   "source": [
    "#another way \n",
    "file_data=open(\"../final_project/poi_names.txt\").readlines()\n",
    "len([i for i in file_data if i.startswith(\"(\")])"
   ]
  },
  {
   "cell_type": "markdown",
   "metadata": {},
   "source": [
    "### Total value of stocks belonging to James Prentice"
   ]
  },
  {
   "cell_type": "code",
   "execution_count": 57,
   "metadata": {},
   "outputs": [
    {
     "data": {
      "text/plain": [
       "{'bonus': 'NaN',\n",
       " 'deferral_payments': 564348,\n",
       " 'deferred_income': 'NaN',\n",
       " 'director_fees': 'NaN',\n",
       " 'email_address': 'james.prentice@enron.com',\n",
       " 'exercised_stock_options': 886231,\n",
       " 'expenses': 'NaN',\n",
       " 'from_messages': 'NaN',\n",
       " 'from_poi_to_this_person': 'NaN',\n",
       " 'from_this_person_to_poi': 'NaN',\n",
       " 'loan_advances': 'NaN',\n",
       " 'long_term_incentive': 'NaN',\n",
       " 'other': 'NaN',\n",
       " 'poi': False,\n",
       " 'restricted_stock': 208809,\n",
       " 'restricted_stock_deferred': 'NaN',\n",
       " 'salary': 'NaN',\n",
       " 'shared_receipt_with_poi': 'NaN',\n",
       " 'to_messages': 'NaN',\n",
       " 'total_payments': 564348,\n",
       " 'total_stock_value': 1095040}"
      ]
     },
     "execution_count": 57,
     "metadata": {},
     "output_type": "execute_result"
    }
   ],
   "source": [
    "enron_data[\"PRENTICE JAMES\"]"
   ]
  },
  {
   "cell_type": "code",
   "execution_count": 58,
   "metadata": {},
   "outputs": [
    {
     "data": {
      "text/plain": [
       "1095040"
      ]
     },
     "execution_count": 58,
     "metadata": {},
     "output_type": "execute_result"
    }
   ],
   "source": [
    "enron_data[\"PRENTICE JAMES\"][\"total_stock_value\"]"
   ]
  },
  {
   "cell_type": "markdown",
   "metadata": {},
   "source": [
    "### No of messages from Colwell Wesley to POIs"
   ]
  },
  {
   "cell_type": "code",
   "execution_count": 59,
   "metadata": {},
   "outputs": [
    {
     "data": {
      "text/plain": [
       "{'bonus': 1200000,\n",
       " 'deferral_payments': 27610,\n",
       " 'deferred_income': -144062,\n",
       " 'director_fees': 'NaN',\n",
       " 'email_address': 'wes.colwell@enron.com',\n",
       " 'exercised_stock_options': 'NaN',\n",
       " 'expenses': 16514,\n",
       " 'from_messages': 40,\n",
       " 'from_poi_to_this_person': 240,\n",
       " 'from_this_person_to_poi': 11,\n",
       " 'loan_advances': 'NaN',\n",
       " 'long_term_incentive': 'NaN',\n",
       " 'other': 101740,\n",
       " 'poi': True,\n",
       " 'restricted_stock': 698242,\n",
       " 'restricted_stock_deferred': 'NaN',\n",
       " 'salary': 288542,\n",
       " 'shared_receipt_with_poi': 1132,\n",
       " 'to_messages': 1758,\n",
       " 'total_payments': 1490344,\n",
       " 'total_stock_value': 698242}"
      ]
     },
     "execution_count": 59,
     "metadata": {},
     "output_type": "execute_result"
    }
   ],
   "source": [
    "enron_data[\"COLWELL WESLEY\"]"
   ]
  },
  {
   "cell_type": "code",
   "execution_count": 60,
   "metadata": {},
   "outputs": [
    {
     "data": {
      "text/plain": [
       "11"
      ]
     },
     "execution_count": 60,
     "metadata": {},
     "output_type": "execute_result"
    }
   ],
   "source": [
    "enron_data[\"COLWELL WESLEY\"][\"from_this_person_to_poi\"]"
   ]
  },
  {
   "cell_type": "markdown",
   "metadata": {},
   "source": [
    "### Value of stock options exercised by Jeffrey K Skilling"
   ]
  },
  {
   "cell_type": "code",
   "execution_count": 61,
   "metadata": {},
   "outputs": [
    {
     "data": {
      "text/plain": [
       "19250000"
      ]
     },
     "execution_count": 61,
     "metadata": {},
     "output_type": "execute_result"
    }
   ],
   "source": [
    "enron_data[\"SKILLING JEFFREY K\"][\"exercised_stock_options\"]"
   ]
  },
  {
   "cell_type": "code",
   "execution_count": 3,
   "metadata": {},
   "outputs": [
    {
     "data": {
      "text/plain": [
       "{'bonus': 5600000,\n",
       " 'deferral_payments': 'NaN',\n",
       " 'deferred_income': 'NaN',\n",
       " 'director_fees': 'NaN',\n",
       " 'email_address': 'jeff.skilling@enron.com',\n",
       " 'exercised_stock_options': 19250000,\n",
       " 'expenses': 29336,\n",
       " 'from_messages': 108,\n",
       " 'from_poi_to_this_person': 88,\n",
       " 'from_this_person_to_poi': 30,\n",
       " 'loan_advances': 'NaN',\n",
       " 'long_term_incentive': 1920000,\n",
       " 'other': 22122,\n",
       " 'poi': True,\n",
       " 'restricted_stock': 6843672,\n",
       " 'restricted_stock_deferred': 'NaN',\n",
       " 'salary': 1111258,\n",
       " 'shared_receipt_with_poi': 2042,\n",
       " 'to_messages': 3627,\n",
       " 'total_payments': 8682716,\n",
       " 'total_stock_value': 26093672}"
      ]
     },
     "execution_count": 3,
     "metadata": {},
     "output_type": "execute_result"
    }
   ],
   "source": [
    "enron_data[\"SKILLING JEFFREY K\"]"
   ]
  },
  {
   "cell_type": "code",
   "execution_count": 11,
   "metadata": {},
   "outputs": [
    {
     "data": {
      "text/plain": [
       "{'bonus': 7000000,\n",
       " 'deferral_payments': 202911,\n",
       " 'deferred_income': -300000,\n",
       " 'director_fees': 'NaN',\n",
       " 'email_address': 'kenneth.lay@enron.com',\n",
       " 'exercised_stock_options': 34348384,\n",
       " 'expenses': 99832,\n",
       " 'from_messages': 36,\n",
       " 'from_poi_to_this_person': 123,\n",
       " 'from_this_person_to_poi': 16,\n",
       " 'loan_advances': 81525000,\n",
       " 'long_term_incentive': 3600000,\n",
       " 'other': 10359729,\n",
       " 'poi': True,\n",
       " 'restricted_stock': 14761694,\n",
       " 'restricted_stock_deferred': 'NaN',\n",
       " 'salary': 1072321,\n",
       " 'shared_receipt_with_poi': 2411,\n",
       " 'to_messages': 4273,\n",
       " 'total_payments': 103559793,\n",
       " 'total_stock_value': 49110078}"
      ]
     },
     "execution_count": 11,
     "metadata": {},
     "output_type": "execute_result"
    }
   ],
   "source": [
    "enron_data[\"LAY KENNETH L\"]"
   ]
  },
  {
   "cell_type": "markdown",
   "metadata": {},
   "source": [
    "### How many people with quantified salary"
   ]
  },
  {
   "cell_type": "code",
   "execution_count": 6,
   "metadata": {},
   "outputs": [
    {
     "ename": "NameError",
     "evalue": "name 'Nan' is not defined",
     "output_type": "error",
     "traceback": [
      "\u001b[0;31m\u001b[0m",
      "\u001b[0;31mNameError\u001b[0mTraceback (most recent call last)",
      "\u001b[0;32m<ipython-input-6-2147e5c74f08>\u001b[0m in \u001b[0;36m<module>\u001b[0;34m()\u001b[0m\n\u001b[0;32m----> 1\u001b[0;31m \u001b[0mlen\u001b[0m\u001b[0;34m(\u001b[0m\u001b[0;34m[\u001b[0m\u001b[0mitem\u001b[0m \u001b[0;32mfor\u001b[0m \u001b[0mitem\u001b[0m \u001b[0;32min\u001b[0m \u001b[0menron_data\u001b[0m\u001b[0;34m.\u001b[0m\u001b[0mvalues\u001b[0m\u001b[0;34m(\u001b[0m\u001b[0;34m)\u001b[0m \u001b[0;32mif\u001b[0m \u001b[0mitem\u001b[0m\u001b[0;34m[\u001b[0m\u001b[0;34m'salary'\u001b[0m\u001b[0;34m]\u001b[0m\u001b[0;34m!=\u001b[0m\u001b[0mNan\u001b[0m\u001b[0;34m]\u001b[0m\u001b[0;34m)\u001b[0m\u001b[0;34m\u001b[0m\u001b[0m\n\u001b[0m",
      "\u001b[0;31mNameError\u001b[0m: name 'Nan' is not defined"
     ]
    }
   ],
   "source": [
    "len([item for item in enron_data.values() if item['salary']!=Nan])"
   ]
  },
  {
   "cell_type": "code",
   "execution_count": 8,
   "metadata": {},
   "outputs": [
    {
     "data": {
      "text/plain": [
       "95"
      ]
     },
     "execution_count": 8,
     "metadata": {},
     "output_type": "execute_result"
    }
   ],
   "source": [
    "len([item for item in enron_data.values() if item['salary']!='NaN'])"
   ]
  },
  {
   "cell_type": "markdown",
   "metadata": {},
   "source": [
    "### How many people's email adrress(es) are known"
   ]
  },
  {
   "cell_type": "code",
   "execution_count": 10,
   "metadata": {},
   "outputs": [
    {
     "data": {
      "text/plain": [
       "111"
      ]
     },
     "execution_count": 10,
     "metadata": {},
     "output_type": "execute_result"
    }
   ],
   "source": [
    "len([item for item in enron_data.values() if item['email_address']!='NaN'])"
   ]
  },
  {
   "cell_type": "markdown",
   "metadata": {},
   "source": [
    "### How many people have Nan for total payments? / %"
   ]
  },
  {
   "cell_type": "code",
   "execution_count": 46,
   "metadata": {},
   "outputs": [
    {
     "name": "stdout",
     "output_type": "stream",
     "text": [
      "21\n"
     ]
    },
    {
     "data": {
      "text/plain": [
       "14.383561643835616"
      ]
     },
     "execution_count": 46,
     "metadata": {},
     "output_type": "execute_result"
    }
   ],
   "source": [
    "nan_total_payments=len([i for i in enron_data.values() if i['total_payments']=='NaN'])\n",
    "print(nan_total_payments)\n",
    "nan_total_payments/float(len(enron_data))*100"
   ]
  },
  {
   "cell_type": "markdown",
   "metadata": {},
   "source": [
    "### No. of people in dataset if 10 POIs are added with NaN total_payments\n",
    "### No of people with NaN total_payments"
   ]
  },
  {
   "cell_type": "code",
   "execution_count": 31,
   "metadata": {},
   "outputs": [
    {
     "name": "stdout",
     "output_type": "stream",
     "text": [
      "156\n",
      "31\n"
     ]
    }
   ],
   "source": [
    "new_len=len(enron_data)+10\n",
    "new_nan=nan_total_payments+10\n",
    "print(new_len)\n",
    "print(new_nan)"
   ]
  },
  {
   "cell_type": "markdown",
   "metadata": {},
   "source": [
    "### New no. of POIs\n",
    "### New no. of POIs with Nan total_payments"
   ]
  },
  {
   "cell_type": "code",
   "execution_count": 55,
   "metadata": {},
   "outputs": [
    {
     "name": "stdout",
     "output_type": "stream",
     "text": [
      "28\n",
      "10\n"
     ]
    }
   ],
   "source": [
    "print(poi+10)\n",
    "nan_total_payments_poi=len([i for i in enron_data.values() if (i['poi']==True and i['total_payments']=='NaN')])\n",
    "print(nan_total_payments_poi+10)"
   ]
  },
  {
   "cell_type": "code",
   "execution_count": null,
   "metadata": {},
   "outputs": [],
   "source": []
  }
 ],
 "metadata": {
  "kernelspec": {
   "display_name": "Python 2",
   "language": "python",
   "name": "python2"
  },
  "language_info": {
   "codemirror_mode": {
    "name": "ipython",
    "version": 2
   },
   "file_extension": ".py",
   "mimetype": "text/x-python",
   "name": "python",
   "nbconvert_exporter": "python",
   "pygments_lexer": "ipython2",
   "version": "2.7.6"
  }
 },
 "nbformat": 4,
 "nbformat_minor": 2
}
