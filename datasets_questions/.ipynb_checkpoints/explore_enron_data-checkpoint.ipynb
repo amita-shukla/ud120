{
 "cells": [
  {
   "cell_type": "markdown",
   "metadata": {},
   "source": [
    "## Starter code for exploring the Enron dataset (emails + finances);\n",
    "loads up the dataset (pickled dict of dicts).\n",
    "\n",
    "The dataset has the form:\n",
    "`enron_data[\"LASTNAME FIRSTNAME MIDDLEINITIAL\"] = { features_dict }`\n",
    "\n",
    "`{features_dict}` is a dictionary of features associated with that person.\n",
    "You should explore `features_dict` as part of the mini-project,\n",
    "but here's an example to get you started:\n",
    "\n",
    "`enron_data[\"SKILLING JEFFREY K\"][\"bonus\"] = 5600000`"
   ]
  },
  {
   "cell_type": "code",
   "execution_count": 1,
   "metadata": {
    "collapsed": true
   },
   "outputs": [],
   "source": [
    "import pickle\n",
    "\n",
    "enron_data = pickle.load(open(\"../final_project/final_project_dataset.pkl\", \"r\"))"
   ]
  }
 ],
 "metadata": {
  "kernelspec": {
   "display_name": "Python 2.7",
   "language": "python",
   "name": "py27"
  },
  "language_info": {
   "codemirror_mode": {
    "name": "ipython",
    "version": 2
   },
   "file_extension": ".py",
   "mimetype": "text/x-python",
   "name": "python",
   "nbconvert_exporter": "python",
   "pygments_lexer": "ipython2",
   "version": "2.7.14"
  }
 },
 "nbformat": 4,
 "nbformat_minor": 2
}
